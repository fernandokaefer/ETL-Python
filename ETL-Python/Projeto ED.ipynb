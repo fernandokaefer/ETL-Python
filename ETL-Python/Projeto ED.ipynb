{
 "cells": [
  {
   "cell_type": "code",
   "execution_count": 1,
   "id": "54c17e82",
   "metadata": {},
   "outputs": [],
   "source": [
    "# Bibliotecas.\n",
    "\n",
    "import pandas as pd"
   ]
  },
  {
   "cell_type": "code",
   "execution_count": 2,
   "id": "d87958fd",
   "metadata": {},
   "outputs": [],
   "source": [
    "# Extraindo os arquivos.\n",
    "\n",
    "def read_files(path, name_file, year_date, type_file):\n",
    "    _file = f'{path}{name_file}{year_date}.{type_file}'\n",
    "    colspecs = [(2,10),\n",
    "                (10,12),\n",
    "                (12,24),\n",
    "                (27,39),\n",
    "                (56,69),\n",
    "                (69,82),\n",
    "                (82,95),\n",
    "                (108,121),\n",
    "                (152,170),\n",
    "                (170,188),]\n",
    "\n",
    "    names = ['data_pregao', 'codbdi', 'sigla_acao', 'nome_acao', \n",
    "             'preco_abertura', 'preco_maximo', 'preco_minimo',\n",
    "             'preco_fechamento', 'qtd_negocios', 'volume_negocios']\n",
    "\n",
    "    df = pd.read_fwf(_file, colspecs = colspecs, names = names, skiprows =1)\n",
    "    \n",
    "    return df"
   ]
  },
  {
   "cell_type": "code",
   "execution_count": 3,
   "id": "0a0297f9",
   "metadata": {},
   "outputs": [],
   "source": [
    "# Filtrando Ações.\n",
    "\n",
    "def filter_stocks(df):\n",
    "    df = df [df['codbdi']== 2]\n",
    "    df = df.drop(['codbdi'], axis=1)\n",
    "    \n",
    "    return df"
   ]
  },
  {
   "cell_type": "code",
   "execution_count": 4,
   "id": "9228a518",
   "metadata": {},
   "outputs": [],
   "source": [
    "# Ajustando o campo de data.\n",
    "\n",
    "def parse_date(df):\n",
    "    df['data_pregao'] = pd.to_datetime(df['data_pregao'], format = '%Y%m%d')\n",
    "    \n",
    "    return df"
   ]
  },
  {
   "cell_type": "code",
   "execution_count": 5,
   "id": "de041470",
   "metadata": {},
   "outputs": [],
   "source": [
    "# Ajustando os campos numéricos.\n",
    "\n",
    "def parse_values(df):\n",
    "    df['preco_abertura'] = (df['preco_abertura'] /100).astype(float)\n",
    "    df['preco_maximo'] = (df['preco_maximo'] /100).astype(float)\n",
    "    df['preco_minimo'] = (df['preco_minimo'] /100).astype(float)\n",
    "    df['preco_fechamento'] = (df['preco_fechamento'] /100).astype(float)\n",
    "\n",
    "    return df"
   ]
  },
  {
   "cell_type": "code",
   "execution_count": 6,
   "id": "df2c1890",
   "metadata": {},
   "outputs": [],
   "source": [
    "# Juntando os arquivos.\n",
    "\n",
    "def concat_files(path, name_file, year_date, type_file, final_file):\n",
    "    for i, y in enumerate(year_date):\n",
    "        df = read_files(path, name_file, y, type_file)\n",
    "        df = filter_stocks(df)\n",
    "        df = parse_date(df)\n",
    "        df = parse_values(df)\n",
    "        \n",
    "        if i==0:\n",
    "            df_final = df\n",
    "        else:\n",
    "            df_final = pd.concat([df_final, df])\n",
    "    df_final.to_csv(f'{path}//{final_file}', index=False)"
   ]
  },
  {
   "cell_type": "code",
   "execution_count": null,
   "id": "ce59dfae",
   "metadata": {
    "scrolled": true
   },
   "outputs": [],
   "source": [
    "# Executando o programa de ETL.\n",
    "\n",
    "year_date = ['2018','2019','2020']\n",
    "\n",
    "path = f'C://Users//Fernando//Desktop//All//My Projects//Engenharia de Dados-Python//'\n",
    "\n",
    "name_file = 'COTAHIST_A'\n",
    "\n",
    "type_file = 'txt'\n",
    "\n",
    "final_file = 'all_bovespa.csv'\n",
    "\n",
    "concat_files(path, name_file, year_date, type_file, final_file)"
   ]
  },
  {
   "cell_type": "code",
   "execution_count": 25,
   "id": "49184c52",
   "metadata": {},
   "outputs": [],
   "source": [
    "# Após rodar todo o código, foi criado um arquivo .csv que contém todas as informações dos arquivos inseridos após o ETL."
   ]
  }
 ],
 "metadata": {
  "kernelspec": {
   "display_name": "Python 3 (ipykernel)",
   "language": "python",
   "name": "python3"
  },
  "language_info": {
   "codemirror_mode": {
    "name": "ipython",
    "version": 3
   },
   "file_extension": ".py",
   "mimetype": "text/x-python",
   "name": "python",
   "nbconvert_exporter": "python",
   "pygments_lexer": "ipython3",
   "version": "3.9.13"
  }
 },
 "nbformat": 4,
 "nbformat_minor": 5
}
